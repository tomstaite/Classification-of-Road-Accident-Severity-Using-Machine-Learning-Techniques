{
 "cells": [
  {
   "cell_type": "markdown",
   "metadata": {},
   "source": [
    "# Classification of road accident severity using Machine Learning techniques"
   ]
  },
  {
   "cell_type": "markdown",
   "metadata": {},
   "source": [
    "## Setting up the environment"
   ]
  },
  {
   "cell_type": "markdown",
   "metadata": {},
   "source": [
    "### Import libraries and load data"
   ]
  },
  {
   "cell_type": "code",
   "execution_count": 1,
   "metadata": {
    "scrolled": true
   },
   "outputs": [
    {
     "name": "stderr",
     "output_type": "stream",
     "text": [
      "C:\\Anaconda3\\lib\\site-packages\\sklearn\\cross_validation.py:41: DeprecationWarning: This module was deprecated in version 0.18 in favor of the model_selection module into which all the refactored classes and functions are moved. Also note that the interface of the new CV iterators are different from that of this module. This module will be removed in 0.20.\n",
      "  \"This module will be removed in 0.20.\", DeprecationWarning)\n",
      "C:\\Anaconda3\\lib\\site-packages\\sklearn\\grid_search.py:42: DeprecationWarning: This module was deprecated in version 0.18 in favor of the model_selection module into which all the refactored classes and functions are moved. This module will be removed in 0.20.\n",
      "  DeprecationWarning)\n"
     ]
    },
    {
     "name": "stdout",
     "output_type": "stream",
     "text": [
      "(464697, 33)\n",
      "Accident_Index                                  object\n",
      "Location_Easting_OSGR                            int64\n",
      "Location_Northing_OSGR                           int64\n",
      "Longitude                                      float64\n",
      "Latitude                                       float64\n",
      "Police_Force                                     int64\n",
      "Accident_Severity                                int64\n",
      "Number_of_Vehicles                               int64\n",
      "Number_of_Casualties                             int64\n",
      "Date                                            object\n",
      "Day_of_Week                                      int64\n",
      "Time                                            object\n",
      "Local_Authority_(District)                       int64\n",
      "Local_Authority_(Highway)                       object\n",
      "1st_Road_Class                                   int64\n",
      "1st_Road_Number                                  int64\n",
      "Road_Type                                       object\n",
      "Speed_limit                                      int64\n",
      "Junction_Detail                                float64\n",
      "Junction_Control                                object\n",
      "2nd_Road_Class                                   int64\n",
      "2nd_Road_Number                                  int64\n",
      "Pedestrian_Crossing-Human_Control               object\n",
      "Pedestrian_Crossing-Physical_Facilities         object\n",
      "Light_Conditions                                object\n",
      "Weather_Conditions                              object\n",
      "Road_Surface_Conditions                         object\n",
      "Special_Conditions_at_Site                      object\n",
      "Carriageway_Hazards                             object\n",
      "Urban_or_Rural_Area                              int64\n",
      "Did_Police_Officer_Attend_Scene_of_Accident     object\n",
      "LSOA_of_Accident_Location                       object\n",
      "Year                                             int64\n",
      "dtype: object\n"
     ]
    }
   ],
   "source": [
    "import pandas as pd  \n",
    "import numpy as np\n",
    "import h2o\n",
    "import matplotlib.pyplot as plt\n",
    "import random\n",
    "\n",
    "from imblearn.over_sampling import SMOTE\n",
    "from sklearn.model_selection import train_test_split\n",
    "from sklearn.ensemble import RandomForestClassifier\n",
    "from sklearn.metrics import confusion_matrix\n",
    "from sklearn.neighbors import KNeighborsClassifier\n",
    "from matplotlib.colors import ListedColormap\n",
    "from sklearn import svm, grid_search, neighbors, datasets, preprocessing, metrics\n",
    "from sklearn.preprocessing import StandardScaler\n",
    "from sklearn.model_selection import GridSearchCV\n",
    "\n",
    "\n",
    "# Load the CSV file into a Pandas Dataframe - NOTE: Change the directory to where your data is stored\n",
    "originalData = pd.read_csv(r'DATA LOCATION'),low_memory=False )\n",
    "\n",
    "# Look at the dimensions of the data, and the features datatypes\n",
    "print(originalData.shape)\n",
    "print(originalData.dtypes)"
   ]
  },
  {
   "cell_type": "markdown",
   "metadata": {},
   "source": [
    "## Data Exploration & Pre-Processing"
   ]
  },
  {
   "cell_type": "markdown",
   "metadata": {},
   "source": [
    "Exploring a subset of the data to get a feel for it, and to try to understand the features within. This will help us to identify what pre-processing techniques we will need to apply, in order to better prepare our data"
   ]
  },
  {
   "cell_type": "code",
   "execution_count": 2,
   "metadata": {},
   "outputs": [
    {
     "data": {
      "text/html": [
       "<div>\n",
       "<style>\n",
       "    .dataframe thead tr:only-child th {\n",
       "        text-align: right;\n",
       "    }\n",
       "\n",
       "    .dataframe thead th {\n",
       "        text-align: left;\n",
       "    }\n",
       "\n",
       "    .dataframe tbody tr th {\n",
       "        vertical-align: top;\n",
       "    }\n",
       "</style>\n",
       "<table border=\"1\" class=\"dataframe\">\n",
       "  <thead>\n",
       "    <tr style=\"text-align: right;\">\n",
       "      <th></th>\n",
       "      <th>Accident_Index</th>\n",
       "      <th>Location_Easting_OSGR</th>\n",
       "      <th>Location_Northing_OSGR</th>\n",
       "      <th>Longitude</th>\n",
       "      <th>Latitude</th>\n",
       "      <th>Police_Force</th>\n",
       "      <th>Accident_Severity</th>\n",
       "      <th>Number_of_Vehicles</th>\n",
       "      <th>Number_of_Casualties</th>\n",
       "      <th>Date</th>\n",
       "      <th>...</th>\n",
       "      <th>Pedestrian_Crossing-Physical_Facilities</th>\n",
       "      <th>Light_Conditions</th>\n",
       "      <th>Weather_Conditions</th>\n",
       "      <th>Road_Surface_Conditions</th>\n",
       "      <th>Special_Conditions_at_Site</th>\n",
       "      <th>Carriageway_Hazards</th>\n",
       "      <th>Urban_or_Rural_Area</th>\n",
       "      <th>Did_Police_Officer_Attend_Scene_of_Accident</th>\n",
       "      <th>LSOA_of_Accident_Location</th>\n",
       "      <th>Year</th>\n",
       "    </tr>\n",
       "  </thead>\n",
       "  <tbody>\n",
       "    <tr>\n",
       "      <th>0</th>\n",
       "      <td>201201BS70001</td>\n",
       "      <td>527200</td>\n",
       "      <td>178760</td>\n",
       "      <td>-0.169101</td>\n",
       "      <td>51.493429</td>\n",
       "      <td>1</td>\n",
       "      <td>3</td>\n",
       "      <td>2</td>\n",
       "      <td>1</td>\n",
       "      <td>19/01/2012</td>\n",
       "      <td>...</td>\n",
       "      <td>Pedestrian phase at traffic signal junction</td>\n",
       "      <td>Darkness: Street lights present and lit</td>\n",
       "      <td>Fine without high winds</td>\n",
       "      <td>Dry</td>\n",
       "      <td>None</td>\n",
       "      <td>None</td>\n",
       "      <td>1</td>\n",
       "      <td>Yes</td>\n",
       "      <td>E01002821</td>\n",
       "      <td>2012</td>\n",
       "    </tr>\n",
       "    <tr>\n",
       "      <th>1</th>\n",
       "      <td>201201BS70002</td>\n",
       "      <td>524930</td>\n",
       "      <td>181430</td>\n",
       "      <td>-0.200838</td>\n",
       "      <td>51.517931</td>\n",
       "      <td>1</td>\n",
       "      <td>3</td>\n",
       "      <td>2</td>\n",
       "      <td>1</td>\n",
       "      <td>04/01/2012</td>\n",
       "      <td>...</td>\n",
       "      <td>No physical crossing within 50 meters</td>\n",
       "      <td>Darkness: Street lights present and lit</td>\n",
       "      <td>Fine without high winds</td>\n",
       "      <td>Dry</td>\n",
       "      <td>None</td>\n",
       "      <td>None</td>\n",
       "      <td>1</td>\n",
       "      <td>Yes</td>\n",
       "      <td>E01004760</td>\n",
       "      <td>2012</td>\n",
       "    </tr>\n",
       "    <tr>\n",
       "      <th>2</th>\n",
       "      <td>201201BS70003</td>\n",
       "      <td>525860</td>\n",
       "      <td>178080</td>\n",
       "      <td>-0.188636</td>\n",
       "      <td>51.487618</td>\n",
       "      <td>1</td>\n",
       "      <td>3</td>\n",
       "      <td>2</td>\n",
       "      <td>1</td>\n",
       "      <td>10/01/2012</td>\n",
       "      <td>...</td>\n",
       "      <td>non-junction pedestrian crossing</td>\n",
       "      <td>Daylight: Street light present</td>\n",
       "      <td>Fine without high winds</td>\n",
       "      <td>Dry</td>\n",
       "      <td>None</td>\n",
       "      <td>None</td>\n",
       "      <td>1</td>\n",
       "      <td>Yes</td>\n",
       "      <td>E01002893</td>\n",
       "      <td>2012</td>\n",
       "    </tr>\n",
       "    <tr>\n",
       "      <th>3</th>\n",
       "      <td>201201BS70004</td>\n",
       "      <td>524980</td>\n",
       "      <td>181030</td>\n",
       "      <td>-0.200259</td>\n",
       "      <td>51.514325</td>\n",
       "      <td>1</td>\n",
       "      <td>3</td>\n",
       "      <td>1</td>\n",
       "      <td>1</td>\n",
       "      <td>18/01/2012</td>\n",
       "      <td>...</td>\n",
       "      <td>No physical crossing within 50 meters</td>\n",
       "      <td>Daylight: Street light present</td>\n",
       "      <td>Fine without high winds</td>\n",
       "      <td>Dry</td>\n",
       "      <td>None</td>\n",
       "      <td>None</td>\n",
       "      <td>1</td>\n",
       "      <td>Yes</td>\n",
       "      <td>E01002886</td>\n",
       "      <td>2012</td>\n",
       "    </tr>\n",
       "    <tr>\n",
       "      <th>4</th>\n",
       "      <td>201201BS70005</td>\n",
       "      <td>526170</td>\n",
       "      <td>179200</td>\n",
       "      <td>-0.183773</td>\n",
       "      <td>51.497614</td>\n",
       "      <td>1</td>\n",
       "      <td>3</td>\n",
       "      <td>1</td>\n",
       "      <td>1</td>\n",
       "      <td>17/01/2012</td>\n",
       "      <td>...</td>\n",
       "      <td>No physical crossing within 50 meters</td>\n",
       "      <td>Darkness: Street lights present and lit</td>\n",
       "      <td>Fine without high winds</td>\n",
       "      <td>Dry</td>\n",
       "      <td>None</td>\n",
       "      <td>None</td>\n",
       "      <td>1</td>\n",
       "      <td>Yes</td>\n",
       "      <td>E01002890</td>\n",
       "      <td>2012</td>\n",
       "    </tr>\n",
       "  </tbody>\n",
       "</table>\n",
       "<p>5 rows × 33 columns</p>\n",
       "</div>"
      ],
      "text/plain": [
       "  Accident_Index  Location_Easting_OSGR  Location_Northing_OSGR  Longitude  \\\n",
       "0  201201BS70001                 527200                  178760  -0.169101   \n",
       "1  201201BS70002                 524930                  181430  -0.200838   \n",
       "2  201201BS70003                 525860                  178080  -0.188636   \n",
       "3  201201BS70004                 524980                  181030  -0.200259   \n",
       "4  201201BS70005                 526170                  179200  -0.183773   \n",
       "\n",
       "    Latitude  Police_Force  Accident_Severity  Number_of_Vehicles  \\\n",
       "0  51.493429             1                  3                   2   \n",
       "1  51.517931             1                  3                   2   \n",
       "2  51.487618             1                  3                   2   \n",
       "3  51.514325             1                  3                   1   \n",
       "4  51.497614             1                  3                   1   \n",
       "\n",
       "   Number_of_Casualties        Date  ...   \\\n",
       "0                     1  19/01/2012  ...    \n",
       "1                     1  04/01/2012  ...    \n",
       "2                     1  10/01/2012  ...    \n",
       "3                     1  18/01/2012  ...    \n",
       "4                     1  17/01/2012  ...    \n",
       "\n",
       "       Pedestrian_Crossing-Physical_Facilities  \\\n",
       "0  Pedestrian phase at traffic signal junction   \n",
       "1        No physical crossing within 50 meters   \n",
       "2             non-junction pedestrian crossing   \n",
       "3        No physical crossing within 50 meters   \n",
       "4        No physical crossing within 50 meters   \n",
       "\n",
       "                          Light_Conditions       Weather_Conditions  \\\n",
       "0  Darkness: Street lights present and lit  Fine without high winds   \n",
       "1  Darkness: Street lights present and lit  Fine without high winds   \n",
       "2           Daylight: Street light present  Fine without high winds   \n",
       "3           Daylight: Street light present  Fine without high winds   \n",
       "4  Darkness: Street lights present and lit  Fine without high winds   \n",
       "\n",
       "  Road_Surface_Conditions  Special_Conditions_at_Site  Carriageway_Hazards  \\\n",
       "0                     Dry                        None                 None   \n",
       "1                     Dry                        None                 None   \n",
       "2                     Dry                        None                 None   \n",
       "3                     Dry                        None                 None   \n",
       "4                     Dry                        None                 None   \n",
       "\n",
       "  Urban_or_Rural_Area  Did_Police_Officer_Attend_Scene_of_Accident  \\\n",
       "0                   1                                          Yes   \n",
       "1                   1                                          Yes   \n",
       "2                   1                                          Yes   \n",
       "3                   1                                          Yes   \n",
       "4                   1                                          Yes   \n",
       "\n",
       "   LSOA_of_Accident_Location  Year  \n",
       "0                  E01002821  2012  \n",
       "1                  E01004760  2012  \n",
       "2                  E01002893  2012  \n",
       "3                  E01002886  2012  \n",
       "4                  E01002890  2012  \n",
       "\n",
       "[5 rows x 33 columns]"
      ]
     },
     "execution_count": 2,
     "metadata": {},
     "output_type": "execute_result"
    }
   ],
   "source": [
    "originalData.head()"
   ]
  },
  {
   "cell_type": "markdown",
   "metadata": {},
   "source": [
    "### Removing duplicate features and reducing dimensionality"
   ]
  },
  {
   "cell_type": "markdown",
   "metadata": {},
   "source": [
    "Reducing the number of dimensions of the data by taking a look at each of the columns individually and removing those that are either duplicates (identical features represented in different measures) or those that we feel have little to no predictive power for the models that will be built."
   ]
  },
  {
   "cell_type": "markdown",
   "metadata": {},
   "source": [
    "- The feature 'Junction_Detail' has no value stored for every example in our dataset. Therefore we can remove this column, as it will have no impact on our model"
   ]
  },
  {
   "cell_type": "code",
   "execution_count": 3,
   "metadata": {},
   "outputs": [
    {
     "data": {
      "text/plain": [
       "Series([], Name: Junction_Detail, dtype: int64)"
      ]
     },
     "execution_count": 3,
     "metadata": {},
     "output_type": "execute_result"
    }
   ],
   "source": [
    "originalData['Junction_Detail'].value_counts()"
   ]
  },
  {
   "cell_type": "code",
   "execution_count": 4,
   "metadata": {
    "collapsed": true
   },
   "outputs": [],
   "source": [
    "originalData = originalData.drop(['Junction_Detail'], axis=1)"
   ]
  },
  {
   "cell_type": "markdown",
   "metadata": {},
   "source": [
    "- The features 'Location_Easting_OSGR' and 'Location_Northing_OSGR' are an alternative way of specifying the location of an accident to the 'Longitude' and 'Latitude'. As these columns are essentially a duplication of data, we can choose to remove one set of features. We have decided to remove'Location_Easting_OSGR' and 'Location_Northing_OSGR'."
   ]
  },
  {
   "cell_type": "code",
   "execution_count": 5,
   "metadata": {
    "collapsed": true
   },
   "outputs": [],
   "source": [
    "originalData = originalData.drop(['Location_Easting_OSGR'], axis=1)\n",
    "originalData = originalData.drop(['Location_Northing_OSGR'], axis=1)"
   ]
  },
  {
   "cell_type": "markdown",
   "metadata": {},
   "source": [
    "- The 'Police_Force' feature indicates the police force that had been assigned to the accident (usually the closest police force to the accident location). We already have a measure for location in the data set; furthermore, it is likely that this feature will have little to not prediction power. With that being said, we have chosen to remove this column from our dataset."
   ]
  },
  {
   "cell_type": "code",
   "execution_count": 6,
   "metadata": {
    "collapsed": true
   },
   "outputs": [],
   "source": [
    "originalData = originalData.drop(['Police_Force'], axis=1)"
   ]
  },
  {
   "cell_type": "markdown",
   "metadata": {},
   "source": [
    "- 'Accident_Index' contains the unique identifier for each example in this dataset, which can be very useful if we wanted to locate specific records of accidents that ocurred. However, in turns of predictive power, since each example in the dataset will have a unique 'Accident_Index' value, the feature will not contribute anything to our model. Therefore it can be removed from the dataset."
   ]
  },
  {
   "cell_type": "code",
   "execution_count": 7,
   "metadata": {
    "collapsed": true
   },
   "outputs": [],
   "source": [
    "originalData = originalData.drop(['Accident_Index'], axis=1)"
   ]
  },
  {
   "cell_type": "markdown",
   "metadata": {},
   "source": [
    "- 'Local_Authority_Highway' and 'Local_Authority_District' represents the identities of the authorities that are situated nearest to the location of the accident. Much like the 'Police_Force' feature, these features are unlikely to have a substantial input to our model, and so they can be removed from the dataset."
   ]
  },
  {
   "cell_type": "code",
   "execution_count": 8,
   "metadata": {
    "collapsed": true
   },
   "outputs": [],
   "source": [
    "originalData = originalData.drop(['Local_Authority_(District)'], axis=1)\n",
    "originalData = originalData.drop(['Local_Authority_(Highway)'], axis=1)"
   ]
  },
  {
   "cell_type": "markdown",
   "metadata": {},
   "source": [
    "- We also decided to remove the 'Date' column as we felt that this feature would not contribute too much to our model. If we had more time to complete this project, we could have looked at converting the 'Date' column to a 'Season' column. This could help us look at any potential relationships between the quantity and/or severity of accidents and the season that they occur. (For example; Winter could potentially have a higher quantity of severe accidents due to icy roads, poor vision, and snow)"
   ]
  },
  {
   "cell_type": "code",
   "execution_count": 9,
   "metadata": {
    "collapsed": true
   },
   "outputs": [],
   "source": [
    "originalData = originalData.drop(['Date'], axis=1)"
   ]
  },
  {
   "cell_type": "markdown",
   "metadata": {},
   "source": [
    "- There are several features that help describe the roads our accidents happen on. The 'road class' lists the type of road the accident happens on (single carriage way, motorway, junction, etc) which can potentially influence our model. '1st Road Number' identifies the specific road that the accident has happened on (M40, A1427, M6, etc). Furthermore, if the accident happened on a junction, then '2nd Road Number' will identify the name of the other road. For this project, we will ignore the specific road names and just work with the road class. If we had more time to complete this project, then we could dive deeper into the location of the accidents by mapping them all out. We could then use clustering to identify areas where accidents are more frequent and try to understand 'why' that is the case."
   ]
  },
  {
   "cell_type": "code",
   "execution_count": 10,
   "metadata": {
    "collapsed": true
   },
   "outputs": [],
   "source": [
    "originalData = originalData.drop(['1st_Road_Number'], axis=1)\n",
    "originalData = originalData.drop(['2nd_Road_Number'], axis=1)"
   ]
  },
  {
   "cell_type": "markdown",
   "metadata": {},
   "source": [
    "- It is also unlikely that the presence or absence of a Police officer at the accident scene will add much predictive value to our model. Therefore, we have chosen to omit this column from our dataset"
   ]
  },
  {
   "cell_type": "code",
   "execution_count": 11,
   "metadata": {
    "collapsed": true
   },
   "outputs": [],
   "source": [
    "originalData = originalData.drop(['Did_Police_Officer_Attend_Scene_of_Accident'], axis=1)"
   ]
  },
  {
   "cell_type": "markdown",
   "metadata": {},
   "source": [
    "- Finally, the 'LSOA_of_Accident_Location' translates to the 'Lower Layer Super Output Area' and is another measure of geographic area/location. As previosuly stated, we are using the Latitude and Longitude columns for our study, and so we can remove this feature."
   ]
  },
  {
   "cell_type": "code",
   "execution_count": 12,
   "metadata": {
    "collapsed": true
   },
   "outputs": [],
   "source": [
    "originalData = originalData.drop(['LSOA_of_Accident_Location'], axis=1)"
   ]
  },
  {
   "cell_type": "markdown",
   "metadata": {},
   "source": [
    "We are now left with the following set of features:"
   ]
  },
  {
   "cell_type": "code",
   "execution_count": 13,
   "metadata": {},
   "outputs": [
    {
     "name": "stdout",
     "output_type": "stream",
     "text": [
      "Longitude                                  float64\n",
      "Latitude                                   float64\n",
      "Accident_Severity                            int64\n",
      "Number_of_Vehicles                           int64\n",
      "Number_of_Casualties                         int64\n",
      "Day_of_Week                                  int64\n",
      "Time                                        object\n",
      "1st_Road_Class                               int64\n",
      "Road_Type                                   object\n",
      "Speed_limit                                  int64\n",
      "Junction_Control                            object\n",
      "2nd_Road_Class                               int64\n",
      "Pedestrian_Crossing-Human_Control           object\n",
      "Pedestrian_Crossing-Physical_Facilities     object\n",
      "Light_Conditions                            object\n",
      "Weather_Conditions                          object\n",
      "Road_Surface_Conditions                     object\n",
      "Special_Conditions_at_Site                  object\n",
      "Carriageway_Hazards                         object\n",
      "Urban_or_Rural_Area                          int64\n",
      "Year                                         int64\n",
      "dtype: object\n"
     ]
    }
   ],
   "source": [
    "print(originalData.dtypes)"
   ]
  },
  {
   "cell_type": "code",
   "execution_count": 14,
   "metadata": {
    "scrolled": true
   },
   "outputs": [
    {
     "data": {
      "text/html": [
       "<div>\n",
       "<style>\n",
       "    .dataframe thead tr:only-child th {\n",
       "        text-align: right;\n",
       "    }\n",
       "\n",
       "    .dataframe thead th {\n",
       "        text-align: left;\n",
       "    }\n",
       "\n",
       "    .dataframe tbody tr th {\n",
       "        vertical-align: top;\n",
       "    }\n",
       "</style>\n",
       "<table border=\"1\" class=\"dataframe\">\n",
       "  <thead>\n",
       "    <tr style=\"text-align: right;\">\n",
       "      <th></th>\n",
       "      <th>Longitude</th>\n",
       "      <th>Latitude</th>\n",
       "      <th>Accident_Severity</th>\n",
       "      <th>Number_of_Vehicles</th>\n",
       "      <th>Number_of_Casualties</th>\n",
       "      <th>Day_of_Week</th>\n",
       "      <th>Time</th>\n",
       "      <th>1st_Road_Class</th>\n",
       "      <th>Road_Type</th>\n",
       "      <th>Speed_limit</th>\n",
       "      <th>...</th>\n",
       "      <th>2nd_Road_Class</th>\n",
       "      <th>Pedestrian_Crossing-Human_Control</th>\n",
       "      <th>Pedestrian_Crossing-Physical_Facilities</th>\n",
       "      <th>Light_Conditions</th>\n",
       "      <th>Weather_Conditions</th>\n",
       "      <th>Road_Surface_Conditions</th>\n",
       "      <th>Special_Conditions_at_Site</th>\n",
       "      <th>Carriageway_Hazards</th>\n",
       "      <th>Urban_or_Rural_Area</th>\n",
       "      <th>Year</th>\n",
       "    </tr>\n",
       "  </thead>\n",
       "  <tbody>\n",
       "    <tr>\n",
       "      <th>0</th>\n",
       "      <td>-0.169101</td>\n",
       "      <td>51.493429</td>\n",
       "      <td>3</td>\n",
       "      <td>2</td>\n",
       "      <td>1</td>\n",
       "      <td>5</td>\n",
       "      <td>20:35</td>\n",
       "      <td>3</td>\n",
       "      <td>Single carriageway</td>\n",
       "      <td>30</td>\n",
       "      <td>...</td>\n",
       "      <td>5</td>\n",
       "      <td>None within 50 metres</td>\n",
       "      <td>Pedestrian phase at traffic signal junction</td>\n",
       "      <td>Darkness: Street lights present and lit</td>\n",
       "      <td>Fine without high winds</td>\n",
       "      <td>Dry</td>\n",
       "      <td>None</td>\n",
       "      <td>None</td>\n",
       "      <td>1</td>\n",
       "      <td>2012</td>\n",
       "    </tr>\n",
       "    <tr>\n",
       "      <th>1</th>\n",
       "      <td>-0.200838</td>\n",
       "      <td>51.517931</td>\n",
       "      <td>3</td>\n",
       "      <td>2</td>\n",
       "      <td>1</td>\n",
       "      <td>4</td>\n",
       "      <td>17:00</td>\n",
       "      <td>4</td>\n",
       "      <td>Single carriageway</td>\n",
       "      <td>30</td>\n",
       "      <td>...</td>\n",
       "      <td>6</td>\n",
       "      <td>None within 50 metres</td>\n",
       "      <td>No physical crossing within 50 meters</td>\n",
       "      <td>Darkness: Street lights present and lit</td>\n",
       "      <td>Fine without high winds</td>\n",
       "      <td>Dry</td>\n",
       "      <td>None</td>\n",
       "      <td>None</td>\n",
       "      <td>1</td>\n",
       "      <td>2012</td>\n",
       "    </tr>\n",
       "    <tr>\n",
       "      <th>2</th>\n",
       "      <td>-0.188636</td>\n",
       "      <td>51.487618</td>\n",
       "      <td>3</td>\n",
       "      <td>2</td>\n",
       "      <td>1</td>\n",
       "      <td>3</td>\n",
       "      <td>10:07</td>\n",
       "      <td>3</td>\n",
       "      <td>One way street</td>\n",
       "      <td>30</td>\n",
       "      <td>...</td>\n",
       "      <td>6</td>\n",
       "      <td>None within 50 metres</td>\n",
       "      <td>non-junction pedestrian crossing</td>\n",
       "      <td>Daylight: Street light present</td>\n",
       "      <td>Fine without high winds</td>\n",
       "      <td>Dry</td>\n",
       "      <td>None</td>\n",
       "      <td>None</td>\n",
       "      <td>1</td>\n",
       "      <td>2012</td>\n",
       "    </tr>\n",
       "    <tr>\n",
       "      <th>3</th>\n",
       "      <td>-0.200259</td>\n",
       "      <td>51.514325</td>\n",
       "      <td>3</td>\n",
       "      <td>1</td>\n",
       "      <td>1</td>\n",
       "      <td>4</td>\n",
       "      <td>12:20</td>\n",
       "      <td>5</td>\n",
       "      <td>Single carriageway</td>\n",
       "      <td>30</td>\n",
       "      <td>...</td>\n",
       "      <td>6</td>\n",
       "      <td>None within 50 metres</td>\n",
       "      <td>No physical crossing within 50 meters</td>\n",
       "      <td>Daylight: Street light present</td>\n",
       "      <td>Fine without high winds</td>\n",
       "      <td>Dry</td>\n",
       "      <td>None</td>\n",
       "      <td>None</td>\n",
       "      <td>1</td>\n",
       "      <td>2012</td>\n",
       "    </tr>\n",
       "    <tr>\n",
       "      <th>4</th>\n",
       "      <td>-0.183773</td>\n",
       "      <td>51.497614</td>\n",
       "      <td>3</td>\n",
       "      <td>1</td>\n",
       "      <td>1</td>\n",
       "      <td>3</td>\n",
       "      <td>20:24</td>\n",
       "      <td>4</td>\n",
       "      <td>Single carriageway</td>\n",
       "      <td>30</td>\n",
       "      <td>...</td>\n",
       "      <td>6</td>\n",
       "      <td>None within 50 metres</td>\n",
       "      <td>No physical crossing within 50 meters</td>\n",
       "      <td>Darkness: Street lights present and lit</td>\n",
       "      <td>Fine without high winds</td>\n",
       "      <td>Dry</td>\n",
       "      <td>None</td>\n",
       "      <td>None</td>\n",
       "      <td>1</td>\n",
       "      <td>2012</td>\n",
       "    </tr>\n",
       "  </tbody>\n",
       "</table>\n",
       "<p>5 rows × 21 columns</p>\n",
       "</div>"
      ],
      "text/plain": [
       "   Longitude   Latitude  Accident_Severity  Number_of_Vehicles  \\\n",
       "0  -0.169101  51.493429                  3                   2   \n",
       "1  -0.200838  51.517931                  3                   2   \n",
       "2  -0.188636  51.487618                  3                   2   \n",
       "3  -0.200259  51.514325                  3                   1   \n",
       "4  -0.183773  51.497614                  3                   1   \n",
       "\n",
       "   Number_of_Casualties  Day_of_Week   Time  1st_Road_Class  \\\n",
       "0                     1            5  20:35               3   \n",
       "1                     1            4  17:00               4   \n",
       "2                     1            3  10:07               3   \n",
       "3                     1            4  12:20               5   \n",
       "4                     1            3  20:24               4   \n",
       "\n",
       "            Road_Type  Speed_limit  ...  2nd_Road_Class  \\\n",
       "0  Single carriageway           30  ...               5   \n",
       "1  Single carriageway           30  ...               6   \n",
       "2      One way street           30  ...               6   \n",
       "3  Single carriageway           30  ...               6   \n",
       "4  Single carriageway           30  ...               6   \n",
       "\n",
       "   Pedestrian_Crossing-Human_Control  \\\n",
       "0              None within 50 metres   \n",
       "1              None within 50 metres   \n",
       "2              None within 50 metres   \n",
       "3              None within 50 metres   \n",
       "4              None within 50 metres   \n",
       "\n",
       "       Pedestrian_Crossing-Physical_Facilities  \\\n",
       "0  Pedestrian phase at traffic signal junction   \n",
       "1        No physical crossing within 50 meters   \n",
       "2             non-junction pedestrian crossing   \n",
       "3        No physical crossing within 50 meters   \n",
       "4        No physical crossing within 50 meters   \n",
       "\n",
       "                          Light_Conditions       Weather_Conditions  \\\n",
       "0  Darkness: Street lights present and lit  Fine without high winds   \n",
       "1  Darkness: Street lights present and lit  Fine without high winds   \n",
       "2           Daylight: Street light present  Fine without high winds   \n",
       "3           Daylight: Street light present  Fine without high winds   \n",
       "4  Darkness: Street lights present and lit  Fine without high winds   \n",
       "\n",
       "  Road_Surface_Conditions Special_Conditions_at_Site Carriageway_Hazards  \\\n",
       "0                     Dry                       None                None   \n",
       "1                     Dry                       None                None   \n",
       "2                     Dry                       None                None   \n",
       "3                     Dry                       None                None   \n",
       "4                     Dry                       None                None   \n",
       "\n",
       "  Urban_or_Rural_Area  Year  \n",
       "0                   1  2012  \n",
       "1                   1  2012  \n",
       "2                   1  2012  \n",
       "3                   1  2012  \n",
       "4                   1  2012  \n",
       "\n",
       "[5 rows x 21 columns]"
      ]
     },
     "execution_count": 14,
     "metadata": {},
     "output_type": "execute_result"
    }
   ],
   "source": [
    "originalData.head()"
   ]
  },
  {
   "cell_type": "markdown",
   "metadata": {},
   "source": [
    "### Resolve examples containing NULL values "
   ]
  },
  {
   "cell_type": "code",
   "execution_count": 15,
   "metadata": {
    "collapsed": true
   },
   "outputs": [],
   "source": [
    "# If no Time value stored, value is 'None'\n",
    "originalData['Time'].fillna('None', inplace=True)\n",
    "\n",
    "# If no Junction Control value stored, value is UNK (unknown)\n",
    "originalData['Junction_Control'].fillna('UNK', inplace=True)\n",
    "\n",
    "# If no Road Surface Conditions value stored, assume normal road condition\n",
    "originalData['Road_Surface_Conditions'].fillna('Normal', inplace=True)\n",
    "\n",
    "# If no Special Conditions at Site value stored, assume no special conditions\n",
    "originalData['Special_Conditions_at_Site'].fillna('None', inplace=True)\n",
    "\n",
    "# If no Carriageway Hazards value stored, assume no hazard present\n",
    "originalData['Carriageway_Hazards'].fillna('None', inplace=True)"
   ]
  },
  {
   "cell_type": "markdown",
   "metadata": {},
   "source": [
    "The 'Time' feature details what time of day the accident happens. This could have a strong influence on the behaviour of the model as accidents could be more likely to occur at certain periods of the day (at night, early morning, during rush hours). Some of our examples do not have a time recorded against them. The most likely way we could capture/infer these values would be to search the internet for news reports on these accidents; however, this would be a time-consuming process and some of the minor accidents may not have been reported! With that being said, we have decided to take the simple route for this project by deleting examples from our dataset that do not have a time recorded against them."
   ]
  },
  {
   "cell_type": "code",
   "execution_count": 16,
   "metadata": {
    "collapsed": true
   },
   "outputs": [],
   "source": [
    "# OriginalData = all istances where time is not 'None'\n",
    "originalData = originalData[originalData['Time'] != 'None']"
   ]
  },
  {
   "cell_type": "markdown",
   "metadata": {},
   "source": [
    "### Altering column values and datatypes"
   ]
  },
  {
   "cell_type": "code",
   "execution_count": 17,
   "metadata": {
    "collapsed": true
   },
   "outputs": [],
   "source": [
    "# Mapping values\n",
    "originalData['Urban_or_Rural_Area'] = originalData['Urban_or_Rural_Area'].map({1: 'Urban', 2: 'Rural'})\n",
    "originalData['Day_of_Week'] = originalData['Day_of_Week'].map({1: 'Monday', 2: 'Tuesday', 3: 'Wedesday', 4: 'Thursday', 5: 'Friday', 6: 'Saturday', 7: 'Sunday'})\n",
    "\n",
    "# Altering feature datatypes\n",
    "originalData['Junction_Control'] = originalData['Junction_Control'].astype(str)\n",
    "originalData['Road_Surface_Conditions'] = originalData['Road_Surface_Conditions'].astype(str)\n",
    "originalData['Special_Conditions_at_Site'] = originalData['Special_Conditions_at_Site'].astype(str)\n",
    "originalData['Carriageway_Hazards'] = originalData['Carriageway_Hazards'].astype(str)\n",
    "\n",
    "\n",
    "# Splitting Time into hours and minutes and then dropping the original time column\n",
    "originalData[['Hour', 'Minutes']] = originalData['Time'].astype(str).str.split(':', expand=True)\n",
    "originalData = originalData.drop(['Time'], axis=1)"
   ]
  },
  {
   "cell_type": "markdown",
   "metadata": {},
   "source": [
    "### Rearranging the data frame"
   ]
  },
  {
   "cell_type": "code",
   "execution_count": 18,
   "metadata": {
    "collapsed": true
   },
   "outputs": [],
   "source": [
    "# Move class target variable to the end of the table\n",
    "cols = list(originalData)\n",
    "cols.insert(33, cols.pop(cols.index('Accident_Severity')))\n",
    "originalData = originalData.loc[:, cols]"
   ]
  },
  {
   "cell_type": "markdown",
   "metadata": {},
   "source": [
    "### Outlier detection"
   ]
  },
  {
   "cell_type": "code",
   "execution_count": 19,
   "metadata": {},
   "outputs": [
    {
     "name": "stdout",
     "output_type": "stream",
     "text": [
      "-0.104426    32\n",
      "-0.120956    19\n",
      "-0.163926    17\n",
      "-0.217197    17\n",
      "-0.085209    16\n",
      "-0.066819    16\n",
      "-0.069625    16\n",
      "-2.066352    15\n",
      "-0.160834    14\n",
      "-0.150613    14\n",
      "-0.096015    14\n",
      " 0.054915    14\n",
      "-0.172764    13\n",
      "-1.841695    13\n",
      "-0.319581    13\n",
      "-0.056477    13\n",
      "-4.063979    13\n",
      "-0.052266    13\n",
      "-0.089038    13\n",
      "-0.099368    12\n",
      "-0.404123    12\n",
      "-0.170692    12\n",
      "-0.013343    12\n",
      "-0.173445    12\n",
      "-1.901048    12\n",
      "-0.129863    12\n",
      "-0.159763    12\n",
      "-0.056478    12\n",
      "-0.318182    12\n",
      "-0.036278    11\n",
      "             ..\n",
      "-0.079291     1\n",
      "-1.241491     1\n",
      "-0.288260     1\n",
      "-3.648327     1\n",
      "-2.135550     1\n",
      "-3.789911     1\n",
      "-0.772257     1\n",
      "-1.598884     1\n",
      " 0.772969     1\n",
      "-2.184066     1\n",
      "-1.515444     1\n",
      "-2.177619     1\n",
      "-0.391629     1\n",
      "-2.091539     1\n",
      " 0.051640     1\n",
      "-2.894137     1\n",
      "-0.797226     1\n",
      "-5.222742     1\n",
      " 0.417971     1\n",
      "-1.349229     1\n",
      "-1.690446     1\n",
      "-0.894946     1\n",
      "-1.557174     1\n",
      "-0.843067     1\n",
      "-1.074777     1\n",
      " 0.179048     1\n",
      "-2.748432     1\n",
      "-2.360752     1\n",
      " 0.272029     1\n",
      "-1.628682     1\n",
      "Name: Longitude, Length: 384084, dtype: int64\n",
      "51.519764    25\n",
      "51.514075    20\n",
      "51.513285    19\n",
      "51.341169    18\n",
      "51.460718    17\n",
      "51.434503    17\n",
      "51.423571    17\n",
      "51.463164    16\n",
      "51.432198    16\n",
      "51.612180    15\n",
      "51.466161    15\n",
      "52.562776    15\n",
      "51.570592    15\n",
      "51.478096    15\n",
      "51.494683    14\n",
      "51.471012    14\n",
      "51.473336    14\n",
      "51.423433    14\n",
      "51.573567    14\n",
      "51.598350    14\n",
      "51.510790    13\n",
      "51.511784    13\n",
      "51.486694    13\n",
      "51.435550    13\n",
      "51.514074    13\n",
      "51.517166    13\n",
      "51.486692    13\n",
      "51.466439    13\n",
      "51.497086    13\n",
      "53.405583    12\n",
      "             ..\n",
      "50.713551     1\n",
      "53.348481     1\n",
      "53.273032     1\n",
      "52.434651     1\n",
      "51.587601     1\n",
      "51.534680     1\n",
      "54.529874     1\n",
      "52.793601     1\n",
      "53.838845     1\n",
      "53.006749     1\n",
      "52.229164     1\n",
      "55.706745     1\n",
      "51.548033     1\n",
      "52.404646     1\n",
      "51.376602     1\n",
      "52.051280     1\n",
      "51.172668     1\n",
      "51.204743     1\n",
      "54.306184     1\n",
      "51.289648     1\n",
      "51.560226     1\n",
      "53.733894     1\n",
      "51.752690     1\n",
      "53.541493     1\n",
      "51.729055     1\n",
      "50.752197     1\n",
      "52.769890     1\n",
      "51.365182     1\n",
      "52.285403     1\n",
      "50.831469     1\n",
      "Name: Latitude, Length: 374545, dtype: int64\n",
      "2     278809\n",
      "1     140033\n",
      "3      35660\n",
      "4       7653\n",
      "5       1671\n",
      "6        517\n",
      "7        179\n",
      "8         90\n",
      "9         30\n",
      "10        23\n",
      "11         6\n",
      "13         4\n",
      "12         3\n",
      "18         2\n",
      "21         1\n",
      "16         1\n",
      "19         1\n",
      "67         1\n",
      "Name: Number_of_Vehicles, dtype: int64\n",
      "1     361615\n",
      "2      70942\n",
      "3      20379\n",
      "4       7319\n",
      "5       2691\n",
      "6       1025\n",
      "7        333\n",
      "8        157\n",
      "9         81\n",
      "10        43\n",
      "11        27\n",
      "12        16\n",
      "13        11\n",
      "14         7\n",
      "17         4\n",
      "16         4\n",
      "15         3\n",
      "19         3\n",
      "21         3\n",
      "24         2\n",
      "25         2\n",
      "29         2\n",
      "87         1\n",
      "38         1\n",
      "70         1\n",
      "54         1\n",
      "46         1\n",
      "42         1\n",
      "41         1\n",
      "27         1\n",
      "33         1\n",
      "18         1\n",
      "26         1\n",
      "23         1\n",
      "22         1\n",
      "20         1\n",
      "93         1\n",
      "Name: Number_of_Casualties, dtype: int64\n",
      "Saturday    76052\n",
      "Friday      70642\n",
      "Wedesday    70313\n",
      "Thursday    69832\n",
      "Tuesday     66724\n",
      "Sunday      60818\n",
      "Monday      50303\n",
      "Name: Day_of_Week, dtype: int64\n",
      "3    216228\n",
      "6    129690\n",
      "4     59067\n",
      "5     41796\n",
      "1     16556\n",
      "2      1347\n",
      "Name: 1st_Road_Class, dtype: int64\n",
      "Single carriageway    351257\n",
      "Dual carriageway       65997\n",
      "Roundabout             31852\n",
      "One way street          9073\n",
      "Slip road               4827\n",
      "Unknown                 1678\n",
      "Name: Road_Type, dtype: int64\n",
      "30    304836\n",
      "60     64458\n",
      "40     37538\n",
      "70     31484\n",
      "50     17312\n",
      "20      9055\n",
      "10         1\n",
      "Name: Speed_limit, dtype: int64\n",
      "Giveway or uncontrolled     232912\n",
      "UNK                         178603\n",
      "Automatic traffic signal     50205\n",
      "Stop Sign                     2287\n",
      "Authorised person              677\n",
      "Name: Junction_Control, dtype: int64\n",
      " 6    189913\n",
      "-1    181786\n",
      " 3     47690\n",
      " 5     22906\n",
      " 4     18911\n",
      " 1      3132\n",
      " 2       346\n",
      "Name: 2nd_Road_Class, dtype: int64\n",
      "None within 50 metres                 462120\n",
      "Control by other authorised person      1468\n",
      "Control by school crossing patrol       1096\n",
      "Name: Pedestrian_Crossing-Human_Control, dtype: int64\n",
      "No physical crossing within 50 meters          377089\n",
      "Pedestrian phase at traffic signal junction     35164\n",
      "non-junction pedestrian crossing                26570\n",
      "Zebra crossing                                  14012\n",
      "Central refuge                                  10369\n",
      "Footbridge or subway                             1480\n",
      "Name: Pedestrian_Crossing-Physical_Facilities, dtype: int64\n",
      "Daylight: Street light present               341112\n",
      "Darkness: Street lights present and lit       91158\n",
      "Darkeness: No street lighting                 22998\n",
      "Darkness: Street lighting unknown              6853\n",
      "Darkness: Street lights present but unlit      2563\n",
      "Name: Light_Conditions, dtype: int64\n",
      "Fine without high winds       373156\n",
      "Raining without high winds     57060\n",
      "Other                           8272\n",
      "Unknown                         8214\n",
      "Raining with high winds         7120\n",
      "Fine with high winds            5010\n",
      "Snowing without high winds      2708\n",
      "Fog or mist                     2411\n",
      "Snowing with high winds          733\n",
      "Name: Weather_Conditions, dtype: int64\n",
      "Dry                          319363\n",
      "Wet/Damp                     132740\n",
      "Frost/Ice                      8139\n",
      "Snow                           2824\n",
      "Flood (Over 3cm of water)       863\n",
      "Normal                          755\n",
      "Name: Road_Surface_Conditions, dtype: int64\n",
      "None                                               454374\n",
      "Roadworks                                            4742\n",
      "Mud                                                  1413\n",
      "Ol or diesel                                         1406\n",
      "Road surface defective                               1144\n",
      "Auto traffic singal out                               758\n",
      "Permanent sign or marking defective or obscured       625\n",
      "Auto traffic signal partly defective                  222\n",
      "Name: Special_Conditions_at_Site, dtype: int64\n",
      "None                                       456837\n",
      "Other object in carriageway                  3148\n",
      "Any animal (except a ridden horse)           2340\n",
      "Pedestrian in carriageway (not injured)      1274\n",
      "Involvement with previous accident            617\n",
      "Dislodged vehicle load in carriageway         468\n",
      "Name: Carriageway_Hazards, dtype: int64\n",
      "Urban    307891\n",
      "Rural    156793\n",
      "Name: Urban_or_Rural_Area, dtype: int64\n",
      "2012    179710\n",
      "2014    146322\n",
      "2013    138652\n",
      "Name: Year, dtype: int64\n",
      "17    42286\n",
      "16    37895\n",
      "15    36118\n",
      "08    34305\n",
      "18    33032\n",
      "14    28192\n",
      "13    27851\n",
      "12    27693\n",
      "11    24706\n",
      "19    23600\n",
      "09    23596\n",
      "10    21421\n",
      "07    20399\n",
      "20    17165\n",
      "21    13087\n",
      "22    11322\n",
      "06     8666\n",
      "23     8606\n",
      "00     6488\n",
      "01     4714\n",
      "05     3995\n",
      "02     3778\n",
      "03     3135\n",
      "04     2634\n",
      "Name: Hour, dtype: int64\n",
      "00    49029\n",
      "30    46537\n",
      "45    27610\n",
      "20    26887\n",
      "15    26730\n",
      "50    26389\n",
      "40    24730\n",
      "10    23477\n",
      "25    15982\n",
      "55    15371\n",
      "05    15182\n",
      "35    15154\n",
      "18     3821\n",
      "08     3729\n",
      "48     3691\n",
      "28     3662\n",
      "38     3660\n",
      "58     3611\n",
      "12     3512\n",
      "44     3452\n",
      "14     3419\n",
      "24     3378\n",
      "07     3325\n",
      "27     3312\n",
      "42     3303\n",
      "13     3261\n",
      "47     3251\n",
      "52     3210\n",
      "43     3201\n",
      "22     3192\n",
      "17     3187\n",
      "53     3184\n",
      "54     3173\n",
      "57     3170\n",
      "26     3160\n",
      "09     3138\n",
      "49     3132\n",
      "23     3131\n",
      "04     3118\n",
      "34     3110\n",
      "56     3090\n",
      "29     3081\n",
      "37     3058\n",
      "16     3046\n",
      "19     3037\n",
      "36     3035\n",
      "02     3027\n",
      "03     3021\n",
      "06     2975\n",
      "01     2974\n",
      "39     2961\n",
      "46     2932\n",
      "59     2899\n",
      "32     2875\n",
      "33     2872\n",
      "11     2775\n",
      "51     2679\n",
      "21     2671\n",
      "41     2617\n",
      "31     2488\n",
      "Name: Minutes, dtype: int64\n",
      "3    392604\n",
      "2     66778\n",
      "1      5302\n",
      "Name: Accident_Severity, dtype: int64\n"
     ]
    }
   ],
   "source": [
    "# look at frequencies for each column\n",
    "for column in originalData:\n",
    "    print(originalData[column].value_counts())"
   ]
  },
  {
   "cell_type": "markdown",
   "metadata": {},
   "source": [
    "- In the 'Number_of_Vehicles' column, the range of values tend to lie between 1 and 20. In fact, 464,682 out of 464,684 (99.99957%) of the values lie within this range. There is a frequency count of 1 for 67 vehicles which is significantly higher than expected. After searching for a record of this accident online, we can confirm that such accident DID happen, and so we will keep this record in the data.\n"
   ]
  },
  {
   "cell_type": "code",
   "execution_count": 20,
   "metadata": {},
   "outputs": [
    {
     "data": {
      "text/html": [
       "<div>\n",
       "<style>\n",
       "    .dataframe thead tr:only-child th {\n",
       "        text-align: right;\n",
       "    }\n",
       "\n",
       "    .dataframe thead th {\n",
       "        text-align: left;\n",
       "    }\n",
       "\n",
       "    .dataframe tbody tr th {\n",
       "        vertical-align: top;\n",
       "    }\n",
       "</style>\n",
       "<table border=\"1\" class=\"dataframe\">\n",
       "  <thead>\n",
       "    <tr style=\"text-align: right;\">\n",
       "      <th></th>\n",
       "      <th>Longitude</th>\n",
       "      <th>Latitude</th>\n",
       "      <th>Number_of_Vehicles</th>\n",
       "      <th>Number_of_Casualties</th>\n",
       "      <th>Day_of_Week</th>\n",
       "      <th>1st_Road_Class</th>\n",
       "      <th>Road_Type</th>\n",
       "      <th>Speed_limit</th>\n",
       "      <th>Junction_Control</th>\n",
       "      <th>2nd_Road_Class</th>\n",
       "      <th>...</th>\n",
       "      <th>Light_Conditions</th>\n",
       "      <th>Weather_Conditions</th>\n",
       "      <th>Road_Surface_Conditions</th>\n",
       "      <th>Special_Conditions_at_Site</th>\n",
       "      <th>Carriageway_Hazards</th>\n",
       "      <th>Urban_or_Rural_Area</th>\n",
       "      <th>Year</th>\n",
       "      <th>Hour</th>\n",
       "      <th>Minutes</th>\n",
       "      <th>Accident_Severity</th>\n",
       "    </tr>\n",
       "  </thead>\n",
       "  <tbody>\n",
       "    <tr>\n",
       "      <th>287670</th>\n",
       "      <td>0.749417</td>\n",
       "      <td>51.39166</td>\n",
       "      <td>67</td>\n",
       "      <td>70</td>\n",
       "      <td>Friday</td>\n",
       "      <td>3</td>\n",
       "      <td>Dual carriageway</td>\n",
       "      <td>70</td>\n",
       "      <td>UNK</td>\n",
       "      <td>-1</td>\n",
       "      <td>...</td>\n",
       "      <td>Daylight: Street light present</td>\n",
       "      <td>Fog or mist</td>\n",
       "      <td>Dry</td>\n",
       "      <td>None</td>\n",
       "      <td>None</td>\n",
       "      <td>Rural</td>\n",
       "      <td>2013</td>\n",
       "      <td>07</td>\n",
       "      <td>15</td>\n",
       "      <td>2</td>\n",
       "    </tr>\n",
       "  </tbody>\n",
       "</table>\n",
       "<p>1 rows × 22 columns</p>\n",
       "</div>"
      ],
      "text/plain": [
       "        Longitude  Latitude  Number_of_Vehicles  Number_of_Casualties  \\\n",
       "287670   0.749417  51.39166                  67                    70   \n",
       "\n",
       "       Day_of_Week  1st_Road_Class         Road_Type  Speed_limit  \\\n",
       "287670      Friday               3  Dual carriageway           70   \n",
       "\n",
       "       Junction_Control  2nd_Road_Class        ...         \\\n",
       "287670              UNK              -1        ...          \n",
       "\n",
       "                      Light_Conditions Weather_Conditions  \\\n",
       "287670  Daylight: Street light present        Fog or mist   \n",
       "\n",
       "       Road_Surface_Conditions Special_Conditions_at_Site Carriageway_Hazards  \\\n",
       "287670                     Dry                       None                None   \n",
       "\n",
       "       Urban_or_Rural_Area  Year Hour  Minutes Accident_Severity  \n",
       "287670               Rural  2013   07       15                 2  \n",
       "\n",
       "[1 rows x 22 columns]"
      ]
     },
     "execution_count": 20,
     "metadata": {},
     "output_type": "execute_result"
    }
   ],
   "source": [
    "originalData.loc[originalData['Number_of_Vehicles'] == 67]"
   ]
  },
  {
   "cell_type": "markdown",
   "metadata": {},
   "source": [
    "\n",
    "- Likewise, looking at the number of casualties, we have a frequecy of 1 for values '93' and '87'. Again, these numbers are quite high and so we checked online to see if they were accurate recordings."
   ]
  },
  {
   "cell_type": "code",
   "execution_count": 21,
   "metadata": {},
   "outputs": [
    {
     "data": {
      "text/html": [
       "<div>\n",
       "<style>\n",
       "    .dataframe thead tr:only-child th {\n",
       "        text-align: right;\n",
       "    }\n",
       "\n",
       "    .dataframe thead th {\n",
       "        text-align: left;\n",
       "    }\n",
       "\n",
       "    .dataframe tbody tr th {\n",
       "        vertical-align: top;\n",
       "    }\n",
       "</style>\n",
       "<table border=\"1\" class=\"dataframe\">\n",
       "  <thead>\n",
       "    <tr style=\"text-align: right;\">\n",
       "      <th></th>\n",
       "      <th>Longitude</th>\n",
       "      <th>Latitude</th>\n",
       "      <th>Number_of_Vehicles</th>\n",
       "      <th>Number_of_Casualties</th>\n",
       "      <th>Day_of_Week</th>\n",
       "      <th>1st_Road_Class</th>\n",
       "      <th>Road_Type</th>\n",
       "      <th>Speed_limit</th>\n",
       "      <th>Junction_Control</th>\n",
       "      <th>2nd_Road_Class</th>\n",
       "      <th>...</th>\n",
       "      <th>Light_Conditions</th>\n",
       "      <th>Weather_Conditions</th>\n",
       "      <th>Road_Surface_Conditions</th>\n",
       "      <th>Special_Conditions_at_Site</th>\n",
       "      <th>Carriageway_Hazards</th>\n",
       "      <th>Urban_or_Rural_Area</th>\n",
       "      <th>Year</th>\n",
       "      <th>Hour</th>\n",
       "      <th>Minutes</th>\n",
       "      <th>Accident_Severity</th>\n",
       "    </tr>\n",
       "  </thead>\n",
       "  <tbody>\n",
       "    <tr>\n",
       "      <th>410419</th>\n",
       "      <td>-0.222211</td>\n",
       "      <td>51.683269</td>\n",
       "      <td>2</td>\n",
       "      <td>93</td>\n",
       "      <td>Tuesday</td>\n",
       "      <td>3</td>\n",
       "      <td>Single carriageway</td>\n",
       "      <td>60</td>\n",
       "      <td>UNK</td>\n",
       "      <td>-1</td>\n",
       "      <td>...</td>\n",
       "      <td>Daylight: Street light present</td>\n",
       "      <td>Fine without high winds</td>\n",
       "      <td>Dry</td>\n",
       "      <td>None</td>\n",
       "      <td>None</td>\n",
       "      <td>Rural</td>\n",
       "      <td>2014</td>\n",
       "      <td>08</td>\n",
       "      <td>22</td>\n",
       "      <td>2</td>\n",
       "    </tr>\n",
       "  </tbody>\n",
       "</table>\n",
       "<p>1 rows × 22 columns</p>\n",
       "</div>"
      ],
      "text/plain": [
       "        Longitude   Latitude  Number_of_Vehicles  Number_of_Casualties  \\\n",
       "410419  -0.222211  51.683269                   2                    93   \n",
       "\n",
       "       Day_of_Week  1st_Road_Class           Road_Type  Speed_limit  \\\n",
       "410419     Tuesday               3  Single carriageway           60   \n",
       "\n",
       "       Junction_Control  2nd_Road_Class        ...         \\\n",
       "410419              UNK              -1        ...          \n",
       "\n",
       "                      Light_Conditions       Weather_Conditions  \\\n",
       "410419  Daylight: Street light present  Fine without high winds   \n",
       "\n",
       "       Road_Surface_Conditions Special_Conditions_at_Site Carriageway_Hazards  \\\n",
       "410419                     Dry                       None                None   \n",
       "\n",
       "       Urban_or_Rural_Area  Year Hour  Minutes Accident_Severity  \n",
       "410419               Rural  2014   08       22                 2  \n",
       "\n",
       "[1 rows x 22 columns]"
      ]
     },
     "execution_count": 21,
     "metadata": {},
     "output_type": "execute_result"
    }
   ],
   "source": [
    "originalData.loc[originalData['Number_of_Casualties'] == 93]"
   ]
  },
  {
   "cell_type": "code",
   "execution_count": 22,
   "metadata": {},
   "outputs": [
    {
     "data": {
      "text/html": [
       "<div>\n",
       "<style>\n",
       "    .dataframe thead tr:only-child th {\n",
       "        text-align: right;\n",
       "    }\n",
       "\n",
       "    .dataframe thead th {\n",
       "        text-align: left;\n",
       "    }\n",
       "\n",
       "    .dataframe tbody tr th {\n",
       "        vertical-align: top;\n",
       "    }\n",
       "</style>\n",
       "<table border=\"1\" class=\"dataframe\">\n",
       "  <thead>\n",
       "    <tr style=\"text-align: right;\">\n",
       "      <th></th>\n",
       "      <th>Longitude</th>\n",
       "      <th>Latitude</th>\n",
       "      <th>Number_of_Vehicles</th>\n",
       "      <th>Number_of_Casualties</th>\n",
       "      <th>Day_of_Week</th>\n",
       "      <th>1st_Road_Class</th>\n",
       "      <th>Road_Type</th>\n",
       "      <th>Speed_limit</th>\n",
       "      <th>Junction_Control</th>\n",
       "      <th>2nd_Road_Class</th>\n",
       "      <th>...</th>\n",
       "      <th>Light_Conditions</th>\n",
       "      <th>Weather_Conditions</th>\n",
       "      <th>Road_Surface_Conditions</th>\n",
       "      <th>Special_Conditions_at_Site</th>\n",
       "      <th>Carriageway_Hazards</th>\n",
       "      <th>Urban_or_Rural_Area</th>\n",
       "      <th>Year</th>\n",
       "      <th>Hour</th>\n",
       "      <th>Minutes</th>\n",
       "      <th>Accident_Severity</th>\n",
       "    </tr>\n",
       "  </thead>\n",
       "  <tbody>\n",
       "    <tr>\n",
       "      <th>362889</th>\n",
       "      <td>-1.718034</td>\n",
       "      <td>54.863663</td>\n",
       "      <td>2</td>\n",
       "      <td>87</td>\n",
       "      <td>Wedesday</td>\n",
       "      <td>5</td>\n",
       "      <td>Single carriageway</td>\n",
       "      <td>30</td>\n",
       "      <td>Giveway or uncontrolled</td>\n",
       "      <td>3</td>\n",
       "      <td>...</td>\n",
       "      <td>Daylight: Street light present</td>\n",
       "      <td>Fine without high winds</td>\n",
       "      <td>Dry</td>\n",
       "      <td>None</td>\n",
       "      <td>None</td>\n",
       "      <td>Rural</td>\n",
       "      <td>2014</td>\n",
       "      <td>08</td>\n",
       "      <td>22</td>\n",
       "      <td>2</td>\n",
       "    </tr>\n",
       "  </tbody>\n",
       "</table>\n",
       "<p>1 rows × 22 columns</p>\n",
       "</div>"
      ],
      "text/plain": [
       "        Longitude   Latitude  Number_of_Vehicles  Number_of_Casualties  \\\n",
       "362889  -1.718034  54.863663                   2                    87   \n",
       "\n",
       "       Day_of_Week  1st_Road_Class           Road_Type  Speed_limit  \\\n",
       "362889    Wedesday               5  Single carriageway           30   \n",
       "\n",
       "               Junction_Control  2nd_Road_Class        ...         \\\n",
       "362889  Giveway or uncontrolled               3        ...          \n",
       "\n",
       "                      Light_Conditions       Weather_Conditions  \\\n",
       "362889  Daylight: Street light present  Fine without high winds   \n",
       "\n",
       "       Road_Surface_Conditions Special_Conditions_at_Site Carriageway_Hazards  \\\n",
       "362889                     Dry                       None                None   \n",
       "\n",
       "       Urban_or_Rural_Area  Year Hour  Minutes Accident_Severity  \n",
       "362889               Rural  2014   08       22                 2  \n",
       "\n",
       "[1 rows x 22 columns]"
      ]
     },
     "execution_count": 22,
     "metadata": {},
     "output_type": "execute_result"
    }
   ],
   "source": [
    "originalData.loc[originalData['Number_of_Casualties'] == 87]"
   ]
  },
  {
   "cell_type": "markdown",
   "metadata": {},
   "source": [
    "- According to the speed-limit data, only one accident occurred where the speed limit was 10MPH. It is very likely that more accidents at this speed limit have happened during the observed years but have not been reported due to the lack of scale and severity of the accident."
   ]
  },
  {
   "cell_type": "code",
   "execution_count": 23,
   "metadata": {},
   "outputs": [
    {
     "name": "stdout",
     "output_type": "stream",
     "text": [
      "30    304836\n",
      "60     64458\n",
      "40     37538\n",
      "70     31484\n",
      "50     17312\n",
      "20      9055\n",
      "10         1\n",
      "Name: Speed_limit, dtype: int64\n"
     ]
    }
   ],
   "source": [
    "print(originalData['Speed_limit'].value_counts())"
   ]
  },
  {
   "cell_type": "markdown",
   "metadata": {},
   "source": [
    "### Looking at the natural data split per class"
   ]
  },
  {
   "cell_type": "code",
   "execution_count": 24,
   "metadata": {},
   "outputs": [
    {
     "name": "stdout",
     "output_type": "stream",
     "text": [
      "Severity 1 (fatal) has shape: (5302, 22)\n",
      "Severity 2 (serious) has shape: (66778, 22)\n",
      "Severity 3 (slight) has shape: (392604, 22)\n"
     ]
    }
   ],
   "source": [
    "# Split data according to Accident Severity\n",
    "severity1 = originalData.loc[originalData['Accident_Severity'] == 1]\n",
    "severity2 = originalData.loc[originalData['Accident_Severity'] == 2]\n",
    "severity3 = originalData.loc[originalData['Accident_Severity'] == 3]\n",
    "\n",
    "\n",
    "# Count instances of each dataframe\n",
    "print('Severity 1 (fatal) has shape:' + ' ' + str(severity1.shape))\n",
    "print('Severity 2 (serious) has shape:' + ' ' + str(severity2.shape))\n",
    "print('Severity 3 (slight) has shape:' + ' ' + str(severity3.shape))"
   ]
  },
  {
   "cell_type": "markdown",
   "metadata": {},
   "source": [
    "Class imbalance is evident in this dataset. Class 1 has 5,302 example, whereas Class 3 has 392,604 - over 74 times the amount! Class imbalance can adversely affect the performance of Machine Learning models by introducing bias and creating a model that will generalise better to the majority class. For example, if we just had Class 1 and Class 3 in our study, then the ML algorithm could predict every training example to be in Class 3 and would be right for 392,604 out of 397,906 examples. This would yield a model accuracy of 98.66% but would only accommodate for one class. Every instance it recieves that is of Class 1, it would get wrong.  "
   ]
  },
  {
   "cell_type": "markdown",
   "metadata": {},
   "source": [
    "### Under- and Over-sampling"
   ]
  },
  {
   "cell_type": "code",
   "execution_count": 25,
   "metadata": {},
   "outputs": [
    {
     "name": "stdout",
     "output_type": "stream",
     "text": [
      "Severity 1 has shape: (40000, 22)\n",
      "Severity 2 now has shape: (40000, 22)\n",
      "Severity 3 now has shape: (40000, 22)\n"
     ]
    }
   ],
   "source": [
    "# Random sample 40,000 instances using under-sampling\n",
    "severity2 = severity2.sample(n=40000)\n",
    "severity3 = severity3.sample(n=40000)\n",
    "\n",
    "# Random sample 40,000 instances using over-sampling with replacement\n",
    "severity1 = severity1.sample(n=40000, replace=True)\n",
    "\n",
    "\n",
    "# Count instances of each dataframe\n",
    "print('Severity 1 has shape:' + ' ' + str(severity1.shape))\n",
    "print('Severity 2 now has shape:' + ' ' + str(severity2.shape))\n",
    "print('Severity 3 now has shape:' + ' ' + str(severity3.shape))"
   ]
  },
  {
   "cell_type": "markdown",
   "metadata": {},
   "source": [
    "### Creating a new dataframe with an equal number of examples per class"
   ]
  },
  {
   "cell_type": "code",
   "execution_count": 26,
   "metadata": {},
   "outputs": [
    {
     "name": "stdout",
     "output_type": "stream",
     "text": [
      "newdata has shape: (120000, 22)\n"
     ]
    }
   ],
   "source": [
    "#Concatenating the data into a new frame\n",
    "newdata = pd.concat([severity1, severity2, severity3])\n",
    "print('newdata has shape:' + ' ' + str(newdata.shape))"
   ]
  },
  {
   "cell_type": "markdown",
   "metadata": {},
   "source": [
    "###  One Hot Encode Categorical columns"
   ]
  },
  {
   "cell_type": "code",
   "execution_count": 27,
   "metadata": {
    "scrolled": true
   },
   "outputs": [
    {
     "name": "stdout",
     "output_type": "stream",
     "text": [
      "        Longitude   Latitude  Number_of_Vehicles  Number_of_Casualties  \\\n",
      "231455  -0.276876  53.657062                   2                     3   \n",
      "77242   -1.396922  54.843432                   2                     5   \n",
      "263935  -0.056264  51.946635                   1                     2   \n",
      "114813  -0.651327  52.407753                   2                     3   \n",
      "457125  -2.026546  57.526138                   1                     5   \n",
      "\n",
      "        1st_Road_Class  Speed_limit  2nd_Road_Class  Year  Accident_Severity  \\\n",
      "231455               6           40               6  2013                  1   \n",
      "77242                4           60              -1  2012                  1   \n",
      "263935               3           60              -1  2013                  1   \n",
      "114813               5           60              -1  2012                  1   \n",
      "457125               3           60              -1  2014                  1   \n",
      "\n",
      "        Day_of_Week_Friday     ...      Minutes_50  Minutes_51  Minutes_52  \\\n",
      "231455                   0     ...               0           0           0   \n",
      "77242                    0     ...               0           0           0   \n",
      "263935                   0     ...               0           0           0   \n",
      "114813                   0     ...               0           0           0   \n",
      "457125                   0     ...               0           0           0   \n",
      "\n",
      "        Minutes_53  Minutes_54  Minutes_55  Minutes_56  Minutes_57  \\\n",
      "231455           0           0           0           0           0   \n",
      "77242            0           0           0           0           0   \n",
      "263935           0           0           0           0           0   \n",
      "114813           0           0           0           0           0   \n",
      "457125           0           0           0           0           0   \n",
      "\n",
      "        Minutes_58  Minutes_59  \n",
      "231455           0           0  \n",
      "77242            0           0  \n",
      "263935           0           0  \n",
      "114813           0           0  \n",
      "457125           0           0  \n",
      "\n",
      "[5 rows x 156 columns]\n"
     ]
    }
   ],
   "source": [
    "#Convert categorical variables into dummy/indicator variables\n",
    "newdata = pd.get_dummies(newdata)\n",
    "print(newdata.head())"
   ]
  },
  {
   "cell_type": "markdown",
   "metadata": {},
   "source": [
    "### Splitting dataset into train and test subsets"
   ]
  },
  {
   "cell_type": "code",
   "execution_count": 29,
   "metadata": {},
   "outputs": [
    {
     "name": "stdout",
     "output_type": "stream",
     "text": [
      "Number instances X_train dataset:  (96000, 156)\n",
      "Number instances y_train dataset:  (96000, 1)\n",
      "Number instances X_test dataset:  (24000, 156)\n",
      "Number instances y_test dataset:  (24000, 1)\n"
     ]
    }
   ],
   "source": [
    "# X is all the features, y is the target variable\n",
    "X = np.array(newdata.loc[:, newdata.columns != 'Accident_Severity'])\n",
    "y = np.array(newdata.loc[:, newdata.columns == 'Accident_Severity'])\n",
    "\n",
    "# Split into train/test\n",
    "X_train, X_test, y_train, y_test = train_test_split(X, y, test_size=0.2)\n",
    "print(\"Number instances X_train dataset: \", X_train.shape)\n",
    "print(\"Number instances y_train dataset: \", y_train.shape)\n",
    "print(\"Number instances X_test dataset: \", X_test.shape)\n",
    "print(\"Number instances y_test dataset: \", y_test.shape)"
   ]
  },
  {
   "cell_type": "markdown",
   "metadata": {},
   "source": [
    "## Experiment Conduction"
   ]
  },
  {
   "cell_type": "markdown",
   "metadata": {},
   "source": [
    "### Random Forest "
   ]
  },
  {
   "cell_type": "markdown",
   "metadata": {},
   "source": [
    "The SciKit Random Forest Classifier algorithm only takes inputs of the integer datatype. Some of our labels are categorical and so One Hot Encoding has been applied to convert these into numerical data using a one-of-K scheme. "
   ]
  },
  {
   "cell_type": "code",
   "execution_count": 40,
   "metadata": {},
   "outputs": [
    {
     "name": "stdout",
     "output_type": "stream",
     "text": [
      "For 20 trees, accuracy: 82.9166666667\n",
      "For 50 trees, accuracy: 84.1166666667\n",
      "For 100 trees, accuracy: 84.4083333333\n",
      "For 150 trees, accuracy: 84.4625\n",
      "For 200 trees, accuracy: 84.4458333333\n",
      "For 220 trees, accuracy: 84.4666666667\n",
      "For 230 trees, accuracy: 84.3916666667\n",
      "For 250 trees, accuracy: 84.4041666667\n",
      "For 300 trees, accuracy: 84.4541666667\n",
      "Final Result\n",
      "[[8011   12    5]\n",
      " [ 159 5431 2380]\n",
      " [  27 1148 6827]]\n",
      "             precision    recall  f1-score   support\n",
      "\n",
      "          1       0.98      1.00      0.99      8028\n",
      "          2       0.82      0.68      0.75      7970\n",
      "          3       0.74      0.85      0.79      8002\n",
      "\n",
      "avg / total       0.85      0.84      0.84     24000\n",
      "\n"
     ]
    },
    {
     "data": {
      "image/png": "[encoded data removed]",
      "text/plain": [
       "<matplotlib.figure.Figure at 0x258e938e898>"
      ]
     },
     "metadata": {},
     "output_type": "display_data"
    }
   ],
   "source": [
    "# Values to be plot on our graph\n",
    "graphx = [20,50,100,150,200,220,230,250,300] #The number of trees to be made\n",
    "graphy = []\n",
    "\n",
    "# Run the algorithm with 'i' trees, and calculate predictions\n",
    "for i in graphx:\n",
    "    fit1=RandomForestClassifier(n_estimators=i)\n",
    "    fit1.fit(X_train,y_train.ravel())\n",
    "    y_pred=fit1.predict(X_test)\n",
    "\n",
    "    \n",
    "    # print evaluation metrics\n",
    "    graphy.append(metrics.accuracy_score(y_test, y_pred))\n",
    "    print(\"For\" + \" \" + str(i) + \" \" + \"trees, accuracy:\",100*metrics.accuracy_score(y_test, y_pred))\n",
    "    if i == 300:\n",
    "        print(\"Final Result\")\n",
    "        print(confusion_matrix(y_test, y_pred, labels=[1, 2, 3]))\n",
    "        print(metrics.classification_report(y_test, y_pred))\n",
    "\n",
    "# change to a percentage        \n",
    "graphy = [i * 100 for i in graphy]\n",
    "\n",
    "# Create and plot graph\n",
    "plt.plot(graphx, graphy)\n",
    "plt.title('How altering no. of trees affects performance')\n",
    "plt.xlabel('Number of trees')\n",
    "plt.ylabel('Accuracy')\n",
    "plt.show()"
   ]
  },
  {
   "cell_type": "markdown",
   "metadata": {},
   "source": [
    "## K-Nearest Neighbours"
   ]
  },
  {
   "cell_type": "markdown",
   "metadata": {},
   "source": [
    "For K-Nearest Neighbours, we have used the SciKit package's implementation. This takes in a value for 'n_neighbors' which is our choice of 'k' for the number of neighbors the algorithm will compare the data point to. We are testing the algorithm with the K values - 3, 5, 10, 15, 20, 30, 50. We have set the parameter for the 'algorithm' to auto - this chooses the most suitable algorithm based on the number of dimensions in our data."
   ]
  },
  {
   "cell_type": "code",
   "execution_count": 41,
   "metadata": {},
   "outputs": [
    {
     "name": "stdout",
     "output_type": "stream",
     "text": [
      "[[7965   49   14]\n",
      " [1286 4380 2304]\n",
      " [ 384 2108 5510]]\n",
      "             precision    recall  f1-score   support\n",
      "\n",
      "          1       0.83      0.99      0.90      8028\n",
      "          2       0.67      0.55      0.60      7970\n",
      "          3       0.70      0.69      0.70      8002\n",
      "\n",
      "avg / total       0.73      0.74      0.73     24000\n",
      "\n",
      "For 3 Nearest Neighbours, accuracy: 0.743958333333\n",
      "For 5 Nearest Neighbours, accuracy: 0.72925\n",
      "For 10 Nearest Neighbours, accuracy: 0.690708333333\n",
      "For 15 Nearest Neighbours, accuracy: 0.675416666667\n",
      "For 20 Nearest Neighbours, accuracy: 0.671791666667\n",
      "For 30 Nearest Neighbours, accuracy: 0.664208333333\n",
      "For 50 Nearest Neighbours, accuracy: 0.655\n"
     ]
    },
    {
     "data": {
      "image/png": "[encoded data removed]",
      "text/plain": [
       "<matplotlib.figure.Figure at 0x258d83bfef0>"
      ]
     },
     "metadata": {},
     "output_type": "display_data"
    }
   ],
   "source": [
    "# Values to be plot on our graph\n",
    "graphx = [3,5,10,15,20,30,50] #values of K\n",
    "graphy = []\n",
    "\n",
    "\n",
    "for i in graphx:\n",
    "    #Create KNN Classifier\n",
    "    knn = KNeighborsClassifier(n_neighbors=i, algorithm = 'auto')\n",
    "    \n",
    "    #Train the model using the training sets\n",
    "    knn.fit(X_train,y_train.ravel())\n",
    "    \n",
    "    #Predict the response for test dataset\n",
    "    y_pred = knn.predict(X_test)\n",
    "\n",
    "    # print evaluation metrics\n",
    "    if i == 3:\n",
    "        print(confusion_matrix(y_test, y_pred, labels=[1, 2, 3]))\n",
    "        print(metrics.classification_report(y_test, y_pred))\n",
    "   \n",
    "    graphy.append(metrics.accuracy_score(y_test, y_pred))\n",
    "    print(\"For\" + \" \" + str(i) + \" \" + \"Nearest Neighbours, accuracy:\",metrics.accuracy_score(y_test, y_pred))\n",
    "        \n",
    "# change to a percentage         \n",
    "graphy = [i * 100 for i in graphy]\n",
    "\n",
    "# Create and plot graph\n",
    "plt.plot(graphx, graphy)\n",
    "plt.title('Accuracy with altering K')\n",
    "plt.xlabel('K-value')\n",
    "plt.ylabel('Accuracy')\n",
    "plt.show()"
   ]
  },
  {
   "cell_type": "markdown",
   "metadata": {},
   "source": [
    "## Support Vector Machine"
   ]
  },
  {
   "cell_type": "markdown",
   "metadata": {},
   "source": [
    "For Support Vector Machine, we have used the SciKit package's implementation. This takes in a value for 'kernal' - The main function of this is to transform the dataset input into the required form, the default is set to linear. It also takes in a value for the parameter 'C' - the Penalty parameter C of the error term and parameter 'gamma' - the kernal coefficient for the kernal 'rbf'.\n",
    "\n",
    "We have reduced the Train/Test split further as Support Vector Machine can take a considerably longer time to compute than the other two chosen Machine Learning algorithms.\n",
    "\n",
    "We decided to use the radial basis function (rbf) kernel.\n",
    "\n",
    "The function, called 'svc_param_selection' test a number of C and gamma values and prints the values that work best for our model. These parameters are then used for the actual SVM implementation."
   ]
  },
  {
   "cell_type": "code",
   "execution_count": 30,
   "metadata": {},
   "outputs": [
    {
     "name": "stdout",
     "output_type": "stream",
     "text": [
      "Severity 1 has shape: (4000, 157)\n",
      "Severity 2 now has shape: (4000, 157)\n",
      "Severity 3 now has shape: (4000, 157)\n",
      "newdata has shape: (12000, 157)\n",
      "Number instances X_train dataset:  (9600, 756)\n",
      "Number instances y_train dataset:  (9600, 1)\n",
      "Number instances X_test dataset:  (2400, 756)\n",
      "Number instances y_test dataset:  (2400, 1)\n"
     ]
    }
   ],
   "source": [
    "# Split data according to Accident Severity\n",
    "newdata1 = newdata.loc[newdata['Accident_Severity'] == 1]\n",
    "newdata2 = newdata.loc[newdata['Accident_Severity'] == 2]\n",
    "newdata3 = newdata.loc[newdata['Accident_Severity'] == 3]\n",
    "\n",
    "\n",
    "# Random sample 4,000 instances using under-sampling\n",
    "newdata2 = newdata2.sample(n=4000)\n",
    "newdata3 = newdata3.sample(n=4000)\n",
    "\n",
    "# Random sample 4,000 instances using over-sampling with replacement\n",
    "newdata1 = newdata1.sample(n=4000, replace=True)\n",
    "\n",
    "\n",
    "# Count instances of each dataframe\n",
    "print('Severity 1 has shape:' + ' ' + str(newdata1.shape))\n",
    "print('Severity 2 now has shape:' + ' ' + str(newdata2.shape))\n",
    "print('Severity 3 now has shape:' + ' ' + str(newdata3.shape))\n",
    "\n",
    "\n",
    "# Concatenate the dataframe and get dummy values\n",
    "newdata = pd.concat([newdata1, newdata2, newdata3])\n",
    "print('newdata has shape:' + ' ' + str(newdata.shape))\n",
    "newdata = pd.get_dummies(newdata)\n",
    "\n",
    "\n",
    "# Split the data into training and testing\n",
    "X = np.array(newdata.loc[:, newdata.columns != 'Accident_Severity'])\n",
    "y = np.array(newdata.loc[:, newdata.columns == 'Accident_Severity'])\n",
    "\n",
    "\n",
    "X_train, X_test, y_train, y_test = train_test_split(X, y, test_size=0.2)\n",
    "print(\"Number instances X_train dataset: \", X_train.shape)\n",
    "print(\"Number instances y_train dataset: \", y_train.shape)\n",
    "print(\"Number instances X_test dataset: \", X_test.shape)\n",
    "print(\"Number instances y_test dataset: \", y_test.shape)"
   ]
  },
  {
   "cell_type": "code",
   "execution_count": 34,
   "metadata": {},
   "outputs": [
    {
     "name": "stdout",
     "output_type": "stream",
     "text": [
      "{'C': 10, 'gamma': 0.001}\n"
     ]
    }
   ],
   "source": [
    "# Test the SVM algorithm with a number of parameters to find the best settings for our problem\n",
    "def svc_param_selection(X, y, nfolds):\n",
    "    Cs = [0.001, 0.01, 0.1, 1, 10]\n",
    "    gammas = [0.001, 0.01, 0.1, 1]\n",
    "    param_grid = {'C': Cs, 'gamma' : gammas}\n",
    "    grid_search = GridSearchCV(svm.SVC(kernel='rbf'), param_grid, cv=nfolds)\n",
    "    grid_search.fit(X, y)\n",
    "    grid_search.best_params_\n",
    "    return grid_search.best_params_\n",
    "\n",
    "\n",
    "SVMResult = svc_param_selection(X_train, y_train.ravel(), 10)\n",
    "print(SVMResult)"
   ]
  },
  {
   "cell_type": "code",
   "execution_count": 31,
   "metadata": {},
   "outputs": [
    {
     "name": "stdout",
     "output_type": "stream",
     "text": [
      "Accuracy: 49.75\n",
      "[[483 197 110]\n",
      " [271 256 275]\n",
      " [189 164 455]]\n",
      "             precision    recall  f1-score   support\n",
      "\n",
      "          1       0.51      0.61      0.56       790\n",
      "          2       0.41      0.32      0.36       802\n",
      "          3       0.54      0.56      0.55       808\n",
      "\n",
      "avg / total       0.49      0.50      0.49      2400\n",
      "\n"
     ]
    }
   ],
   "source": [
    "#Create a svm Classifier\n",
    "clf = svm.SVC(kernel='rbf', C=10, gamma=0.001)\n",
    "\n",
    "#Train the model using the training sets\n",
    "clf.fit(X_train, y_train.ravel())\n",
    "\n",
    "#Predict the response for test dataset\n",
    "y_pred = clf.predict(X_test)\n",
    "\n",
    "# print evaluation metrics\n",
    "print(\"Accuracy:\",100*metrics.accuracy_score(y_test, y_pred))\n",
    "print(confusion_matrix(y_test, y_pred, labels=[1, 2, 3]))\n",
    "print(metrics.classification_report(y_test, y_pred))"
   ]
  }
 ],
 "metadata": {
  "kernelspec": {
   "display_name": "Python 3",
   "language": "python",
   "name": "python3"
  },
  "language_info": {
   "codemirror_mode": {
    "name": "ipython",
    "version": 3
   },
   "file_extension": ".py",
   "mimetype": "text/x-python",
   "name": "python",
   "nbconvert_exporter": "python",
   "pygments_lexer": "ipython3",
   "version": "3.6.5"
  }
 },
 "nbformat": 4,
 "nbformat_minor": 2
}
